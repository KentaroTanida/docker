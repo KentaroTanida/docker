{
 "cells": [
  {
   "cell_type": "code",
   "execution_count": null,
   "id": "8d781eeb-77a4-4ae8-9ea7-ddff94834e94",
   "metadata": {},
   "outputs": [],
   "source": []
  }
 ],
 "metadata": {
  "kernelspec": {
   "display_name": "Python 3 (ipykernel)",
   "language": "python",
   "name": "python3"
  },
  "language_info": {
   "name": ""
  }
 },
 "nbformat": 4,
 "nbformat_minor": 5
}
